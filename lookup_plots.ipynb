{
 "cells": [
  {
   "cell_type": "code",
   "execution_count": 12,
   "metadata": {},
   "outputs": [],
   "source": [
    "import os\n",
    "import numpy as np\n",
    "import matplotlib.pyplot as plt"
   ]
  },
  {
   "cell_type": "markdown",
   "metadata": {},
   "source": [
    "load a lookup table"
   ]
  },
  {
   "cell_type": "code",
   "execution_count": 3,
   "metadata": {},
   "outputs": [],
   "source": [
    "psr = 'J2214+3000'\n",
    "\n",
    "## just a quick concatenation of the two files\n",
    "## currently, they're produced in parallel so there's one for negative-signed, one is positive-signed\n",
    "neg_signs_file = '/home/nima/nanograv/11yr_burst_factorizedlikelihood/single_psr_lookup_v4/B1855+09/B1855+09_-1.txt'\n",
    "pos_signs_file = '/home/nima/nanograv/11yr_burst_factorizedlikelihood/single_psr_lookup_v4/B1855+09/B1855+09_1.txt'\n",
    "\n",
    "combined_table = '/home/nima/nanograv/11yr_burst_factorizedlikelihood/single_psr_lookup_v4/B1855+09/B1855+09_lookup.txt'\n",
    "\n",
    "filenames = [neg_signs_file, pos_signs_file]\n",
    "with open(combined_table, 'w+') as outfile:\n",
    "    for fname in filenames:\n",
    "        with open(fname) as infile:\n",
    "            for line in infile:\n",
    "                outfile.write(line)"
   ]
  },
  {
   "cell_type": "code",
   "execution_count": 4,
   "metadata": {},
   "outputs": [],
   "source": [
    "lfile = os.path.join('/home/nima/nanograv/11yr_burst_factorizedlikelihood/single_psr_lookup_v4/', psr, '{:}_lookup.txt'.format(psr))\n",
    "pfile = os.path.join('/home/nima/nanograv/11yr_burst_factorizedlikelihood/single_psr_lookup_v4/', psr, 'pars.txt')\n",
    "\n",
    "lookup = np.loadtxt(lfile)\n",
    "params = np.loadtxt(pfile, dtype=str)"
   ]
  },
  {
   "cell_type": "code",
   "execution_count": 5,
   "metadata": {},
   "outputs": [
    {
     "name": "stdout",
     "output_type": "stream",
     "text": [
      "['B1855+09_red_noise_gamma;0,7,70' 'B1855+09_red_noise_log10_A;-18,-12,60'\n",
      " 'ramp_log10_A;-18,-12,60' 'ramp_t0;53448.0,57265.0,100' 'sign;-1,1,2']\n"
     ]
    }
   ],
   "source": [
    "print(params)\n",
    "\n",
    "# N grid pts for each param\n",
    "Ngrid = [70, 80, 80, 100, 2]  # gamma, A_RN, A_BWM, t0"
   ]
  },
  {
   "cell_type": "markdown",
   "metadata": {},
   "source": [
    "## get grid points\n",
    "\n",
    "The grid is set up by doing this:\n",
    "```\n",
    "gammas = np.linspace(0, 7, 70, endpoint=True) #grid points for gamma\n",
    "log10_rn_amps = np.linspace(-20, -12, 80, endpoint=True) #grid points for the pulsar red noise\n",
    "log10_burst_amplitudes = np.linspace(-20, -12, 80, endpoint=True) #grid points for the burst strain\n",
    "Ts = np.linspace(t0min, t0max, num=100, endpoint=True)\n",
    "```\n",
    "\n",
    "This should pull the actual lists from the table:"
   ]
  },
  {
   "cell_type": "code",
   "execution_count": null,
   "metadata": {},
   "outputs": [],
   "source": [
    "RN_gams = lookup[:70, 0]\n",
    "RN_amps = lookup[:70*60:70, 1]\n",
    "BWM_amps = lookup[:70*60*60:70*50, 2]\n",
    "BWM_t0s = lookup[:70*60*60*100:70*60*60, 3]\n",
    "BWM_signs = lookup[:70*60*60*100*2:0*60*60*100, 4]"
   ]
  },
  {
   "cell_type": "code",
   "execution_count": 6,
   "metadata": {},
   "outputs": [],
   "source": [
    "RN_gams = np.linspace(0, 7, 70, endpoint=True)\n",
    "RN_amps = np.linspace(-18, -12, 60, endpoint=True)\n",
    "BWM_amps = np.linspace(-18, -12, 60, endpoint=True)\n",
    "BWM_t0s = np.linspace(53448.0,57265.0,100, endpoint=True)\n",
    "BWM_signs = np.linspace(-1,1,2, endpoint=True)"
   ]
  },
  {
   "cell_type": "markdown",
   "metadata": {},
   "source": [
    "The table differs by roundoff from recomputing it, but otherwise these seem ok..."
   ]
  },
  {
   "cell_type": "code",
   "execution_count": null,
   "metadata": {},
   "outputs": [],
   "source": [
    "len(RN_gams), len(RN_amps), len(BWM_amps), len(BWM_t0s)"
   ]
  },
  {
   "cell_type": "code",
   "execution_count": null,
   "metadata": {
    "scrolled": true
   },
   "outputs": [],
   "source": [
    "RN_gams - np.linspace(0, 7, 70, endpoint=True)"
   ]
  },
  {
   "cell_type": "code",
   "execution_count": null,
   "metadata": {},
   "outputs": [],
   "source": [
    "RN_amps - BWM_amps"
   ]
  },
  {
   "cell_type": "code",
   "execution_count": null,
   "metadata": {},
   "outputs": [],
   "source": [
    "BWM_t0s"
   ]
  },
  {
   "cell_type": "code",
   "execution_count": 7,
   "metadata": {},
   "outputs": [
    {
     "name": "stdout",
     "output_type": "stream",
     "text": [
      "50400000 50400000\n"
     ]
    }
   ],
   "source": [
    "print(70*60*60*100*2, len(lookup))"
   ]
  },
  {
   "cell_type": "markdown",
   "metadata": {},
   "source": [
    "## get logL\n",
    "\n",
    "The logL is a 4D surface.  To plot 2D slices we need to reshape the 1D list to the correct shape.\n",
    "\n",
    "To compare to previous runs we need to marginalize over the other parameters not just take a slice.  Since the grid is even, just summing over the nuisance indices should do the trick.\n",
    "\n",
    "This logL isn't normalized, so we'll rescale it to min=0 to make the numbers more human friendly"
   ]
  },
  {
   "cell_type": "code",
   "execution_count": 8,
   "metadata": {},
   "outputs": [],
   "source": [
    "# reshape logL to 4D grid\n",
    "#logL = lookup[:,4].reshape(Ngrid)\n",
    "\n",
    "# logL ording is different than I expected... This seems to be the right order\n",
    "\n",
    "logL = lookup[:].reshape((2,100,60,60,70))\n",
    "#this corresponds to [sign, burst_t0, burst_amp, rn_amp, rn_gamma]\n",
    "logL -= np.min(logL)"
   ]
  },
  {
   "cell_type": "markdown",
   "metadata": {},
   "source": [
    "## 1D marginalized logL\n",
    "\n",
    "lets get some 1D slices... these are not normalized, but that doesn't matter just yet"
   ]
  },
  {
   "cell_type": "code",
   "execution_count": 9,
   "metadata": {},
   "outputs": [],
   "source": [
    "# this was the order I expected\n",
    "#logL_RNgam = np.sum(logL, axis=(1,2,3))\n",
    "#logL_RNamp = np.sum(logL, axis=(0,2,3))\n",
    "#logL_BWMamp = np.sum(logL, axis=(0,1,3))\n",
    "#logL_BWMt0 = np.sum(logL, axis=(0,1,2))\n",
    "\n",
    "# this seems to be the right order\n",
    "logL_RNgam = np.sum(logL, axis=(0,1,2,3))\n",
    "logL_RNamp = np.sum(logL, axis=(0,1,2,4))\n",
    "logL_BWMamp = np.sum(logL, axis=(0,1,3,4))\n",
    "logL_BWMt0 = np.sum(logL, axis=(0,2,3,4))\n",
    "logL_BWMsign = np.sum(logL, axis=(1,2,3,4))"
   ]
  },
  {
   "cell_type": "markdown",
   "metadata": {},
   "source": [
    "still the right shape!"
   ]
  },
  {
   "cell_type": "code",
   "execution_count": 10,
   "metadata": {},
   "outputs": [
    {
     "data": {
      "text/plain": [
       "(70, 60, 60, 100, 2)"
      ]
     },
     "execution_count": 10,
     "metadata": {},
     "output_type": "execute_result"
    }
   ],
   "source": [
    "len(logL_RNgam), len(logL_RNamp), len(logL_BWMamp), len(logL_BWMt0), len(logL_BWMsign)"
   ]
  },
  {
   "cell_type": "code",
   "execution_count": 11,
   "metadata": {},
   "outputs": [
    {
     "name": "stderr",
     "output_type": "stream",
     "text": [
      "No handles with labels found to put in legend.\n"
     ]
    },
    {
     "data": {
      "image/png": "[encoded data removed]",
      "text/plain": [
       "<Figure size 864x432 with 6 Axes>"
      ]
     },
     "metadata": {
      "needs_background": "light"
     },
     "output_type": "display_data"
    }
   ],
   "source": [
    "fig, ax = plt.subplots(nrows=3, ncols=2, figsize=(12,6))\n",
    "ax[0,0].plot(RN_gams, logL_RNgam, label=r'$\\gamma$')\n",
    "ax[0,1].plot(RN_amps, logL_RNamp, label=r'$A_\\mathrm{RN}$')\n",
    "ax[1,0].plot(BWM_amps, logL_BWMamp, label=r'$A_\\mathrm{BWM}$')\n",
    "ax[1,1].plot(BWM_t0s, logL_BWMt0, label=r'$t_0$')\n",
    "ax[2,0].plot(BWM_signs, logL_BWMsign, label='$sign$')\n",
    "for a in ax.flatten():\n",
    "    a.legend()"
   ]
  },
  {
   "cell_type": "markdown",
   "metadata": {},
   "source": [
    "## 2D marginalized logL"
   ]
  },
  {
   "cell_type": "code",
   "execution_count": null,
   "metadata": {},
   "outputs": [],
   "source": [
    "# \"marginalize\" over burst params\n",
    "logL_RN = np.sum(logL, axis=(0,1,2))\n",
    "logL_RN.shape"
   ]
  },
  {
   "cell_type": "code",
   "execution_count": null,
   "metadata": {},
   "outputs": [],
   "source": [
    "plt.contourf(RN_gams, RN_amps, logL_RN, cmap='Blues')\n",
    "plt.xlabel(r'$\\gamma$')\n",
    "plt.ylabel(r'$A_\\mathrm{RN}$')"
   ]
  },
  {
   "cell_type": "code",
   "execution_count": null,
   "metadata": {},
   "outputs": [],
   "source": [
    "# \"marginalize\" over RN params\n",
    "logL_BWM = np.sum(logL, axis=(0,3,4))\n",
    "logL_BWM.shape"
   ]
  },
  {
   "cell_type": "code",
   "execution_count": null,
   "metadata": {},
   "outputs": [],
   "source": [
    "plt.contourf(BWM_t0s, RN_amps, logL_BWM.T, cmap='Blues')\n",
    "plt.xlabel(r'$t_0$')\n",
    "plt.ylabel(r'$A_\\mathrm{BWM}$')"
   ]
  },
  {
   "cell_type": "code",
   "execution_count": null,
   "metadata": {},
   "outputs": [],
   "source": [
    "sign = -0.5\n",
    "sign(sign)"
   ]
  },
  {
   "cell_type": "code",
   "execution_count": null,
   "metadata": {},
   "outputs": [],
   "source": []
  }
 ],
 "metadata": {
  "kernelspec": {
   "display_name": "Python 3",
   "language": "python",
   "name": "python3"
  },
  "language_info": {
   "codemirror_mode": {
    "name": "ipython",
    "version": 3
   },
   "file_extension": ".py",
   "mimetype": "text/x-python",
   "name": "python",
   "nbconvert_exporter": "python",
   "pygments_lexer": "ipython3",
   "version": "3.7.7"
  }
 },
 "nbformat": 4,
 "nbformat_minor": 4
}
