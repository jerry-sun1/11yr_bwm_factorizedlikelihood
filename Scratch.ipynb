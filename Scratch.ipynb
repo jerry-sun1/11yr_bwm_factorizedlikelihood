{
 "cells": [
  {
   "cell_type": "code",
   "execution_count": null,
   "metadata": {},
   "outputs": [],
   "source": [
    "from IPython.core.display import display, HTML\n",
    "display(HTML(\"<style>.container { width:90% !important; }</style>\"))"
   ]
  },
  {
   "cell_type": "markdown",
   "metadata": {},
   "source": [
    "## This code tests to make sure the models give the correct likelihood values\n"
   ]
  },
  {
   "cell_type": "code",
   "execution_count": null,
   "metadata": {},
   "outputs": [],
   "source": [
    "from __future__ import division\n",
    "\n",
    "\n",
    "import numpy as np\n",
    "import os, glob, json\n",
    "import matplotlib.pyplot as plt\n",
    "import pickle\n",
    "import scipy.linalg as sl\n",
    "import healpy as hp\n",
    "import multiprocessing as mp\n",
    "\n",
    "from enterprise.signals import parameter\n",
    "from enterprise.signals import signal_base\n",
    "from enterprise.signals import deterministic_signals\n",
    "from enterprise.signals import utils\n",
    "from enterprise import constants as const\n",
    "\n",
    "from enterprise_extensions import models as ee_models\n",
    "from enterprise_extensions import model_utils as ee_model_utils\n",
    "from enterprise_extensions import sampler as ee_sampler\n",
    "\n",
    "pklfile = '/home/nima/nanograv/11yr_burst_factorizedlikelihood/NANOGrav_11yr_DE436.pickle'\n",
    "\n",
    "with open(pklfile, 'rb') as f:\n",
    "    psrs=pickle.load(f)\n",
    "    \n",
    "psr=psrs[0]\n",
    "\n",
    "U,_ = utils.create_quantization_matrix(psr.toas)\n",
    "eps = 9  # clip first and last N observing epochs\n",
    "t0min = np.floor(max(U[:,eps] * psr.toas/const.day))\n",
    "t0max = np.ceil(max(U[:,-eps] * psr.toas/const.day))\n",
    "\n",
    "ramp_pta = ee_models.model_ramp([psr], upper_limit=False, bayesephem=False,\n",
    "                          Tmin_bwm=t0min, Tmax_bwm=t0max)\n"
   ]
  },
  {
   "cell_type": "code",
   "execution_count": null,
   "metadata": {},
   "outputs": [],
   "source": [
    "noisefile = '/home/nima/nanograv/11yr/noisefiles/noisedict.json'\n",
    "with open(noisefile, 'rb') as nfile:\n",
    "    setpars = json.load(nfile)\n",
    "    \n",
    "ramp_pta.set_default_params(setpars)\n"
   ]
  },
  {
   "cell_type": "code",
   "execution_count": null,
   "metadata": {},
   "outputs": [],
   "source": [
    "print(ramp_pta.params)\n",
    "print(ramp_pta.params[-1])\n",
    "#print(burst_pta.params)"
   ]
  },
  {
   "cell_type": "code",
   "execution_count": null,
   "metadata": {},
   "outputs": [],
   "source": [
    "x0=np.hstack(p.sample() for p in ramp_pta.params)\n",
    "print(x0)\n",
    "print(ramp_pta.params[-1])\n",
    "sign_sample = ramp_pta.params[-1].sample()\n",
    "print(sign_sample)"
   ]
  },
  {
   "cell_type": "code",
   "execution_count": null,
   "metadata": {},
   "outputs": [],
   "source": [
    "for p in ramp_pta.params:\n",
    "    print(str(p) + '\\n')"
   ]
  },
  {
   "cell_type": "code",
   "execution_count": null,
   "metadata": {},
   "outputs": [],
   "source": [
    "\n",
    "sys.path.insert(0, '/home/nima/nanograv/custom_libs/enterprise/')\n",
    "sys.path.insert(0, '/home/nima/nanograv/custom_libs/enterprise_extensions/')\n",
    "sys.path.insert(0, '/home/nima/nanograv/custom_libs/PTMCMCSampler/')#let's try to calculate the associated amplitude and see if the ramp_pta\n",
    "#gives the same answer\n",
    "\n",
    "pos = psr.pos\n",
    "\n",
    "costheta = x0[2]\n",
    "log10_A = x0[3]\n",
    "phi = x0[4]\n",
    "pol=x0[5]\n",
    "t0=x0[6]\n",
    "\n",
    "h = 10 ** log10_A\n",
    "theta=np.arccos(costheta)\n",
    "t0 *= const.day\n",
    "\n",
    "apc = utils.create_gw_antenna_pattern(pos, theta, phi)\n",
    "fp, fc = apc[0], apc[1]\n",
    "\n",
    "pol = np.cos(2 * pol) * fp + np.sin(2 * pol) * fc\n",
    "\n",
    "print(pol*h)"
   ]
  },
  {
   "cell_type": "code",
   "execution_count": null,
   "metadata": {},
   "outputs": [],
   "source": [
    "for p in ramp_pta.params:\n",
    "    print(str(p) + '\\n')"
   ]
  },
  {
   "cell_type": "code",
   "execution_count": null,
   "metadata": {},
   "outputs": [],
   "source": [
    "gamma = x0[0]\n",
    "intrinsic_log10_A = x0[1]\n",
    "ramp_amp = pol*h\n",
    "ramp_t0 = x0[6]\n",
    "\n",
    "print(ramp_pta.get_lnlikelihood([gamma, intrinsic_log10_A, np.log10(ramp_amp), ramp_t0]))"
   ]
  },
  {
   "cell_type": "markdown",
   "metadata": {},
   "source": [
    "# Scratch Space for re-implementing the likelihood table maker\n",
    "I think that this code now mostly works for creating a likelihood-table with the correct likelihoods.\n",
    "It now handles the parameter ordering more robustly and guarantees that the parameters it passes into likelihood calls are in the correct order.\n"
   ]
  },
  {
   "cell_type": "code",
   "execution_count": null,
   "metadata": {},
   "outputs": [],
   "source": [
    "from __future__ import division\n",
    "\n",
    "import numpy as np\n",
    "import os, glob, json\n",
    "import matplotlib.pyplot as plt\n",
    "import pickle\n",
    "import scipy.linalg as sl\n",
    "import healpy as hp\n",
    "import multiprocessing as mp\n",
    "\n",
    "from enterprise.signals import parameter\n",
    "from enterprise.signals import signal_base\n",
    "from enterprise.signals import deterministic_signals\n",
    "from enterprise.signals import utils\n",
    "from enterprise import constants as const\n",
    "\n",
    "from enterprise_extensions import models as ee_models\n",
    "from enterprise_extensions import model_utils as ee_model_utils\n",
    "from enterprise_extensions import sampler as ee_sampler\n",
    "\n",
    "\n",
    "from la_forge.core import Core, load_Core\n",
    "from la_forge import rednoise\n",
    "from la_forge.diagnostics import plot_chains\n",
    "\n",
    "pklfile = '/home/nima/nanograv/11yr_burst_factorizedlikelihood/NANOGrav_11yr_DE436.pickle'\n",
    "with open(pklfile, 'rb') as f:\n",
    "    psrs=pickle.load(f)\n",
    "\n",
    "noisefile = '/home/nima/nanograv/11yr_burst_factorizedlikelihood/noisefiles/noisedict.json'\n",
    "with open(noisefile, 'rb') as f:\n",
    "    setpars = json.load(f)\n",
    "    \n",
    "psr = psrs[0]\n",
    "        \n",
    "\n",
    "################### ==========================\n",
    "### OG Fnc Body ### ==========================\n",
    "################### ==========================\n",
    "\n",
    "\n",
    "\n",
    "################\n",
    "### SPACING ####\n",
    "################\n",
    "\n",
    "### Start by defining the spacing for each of these parameters\n",
    "\n",
    "tmin = psr.toas.min() / const.day\n",
    "tmax = psr.toas.max() / const.day\n",
    "\n",
    "U,_ = utils.create_quantization_matrix(psr.toas)\n",
    "eps = 9  # clip first and last N observing epochs\n",
    "t0min = np.floor(max(U[:,eps] * psr.toas/const.day))\n",
    "t0max = np.ceil(max(U[:,-eps] * psr.toas/const.day))\n",
    "\n",
    "Ts = np.linspace(t0min, t0max, num=100, endpoint=True)\n",
    "time_name = 'ramp_t0'\n",
    "time_spacing = '{},{},100'.format(t0min, t0max)\n",
    "\n",
    "signs = np.linspace(-1,1,2)\n",
    "sign_spacing = '-1,1,2'\n",
    "sign_name = 'sign'\n",
    "\n",
    "\n",
    "log10_burst_amplitudes = np.linspace(-17, -12, 50, endpoint=True) #grid points for the burst strain\n",
    "burst_amp_spacing = '-17,-12,50'\n",
    "burst_amp_name = 'ramp_log10_A'\n",
    "\n",
    "\n",
    "log10_rn_amps = np.linspace(-20, -12, 80, endpoint=True) #grid points for the pulsar red noise\n",
    "rn_amp_spacing = '-17,-12,50'\n",
    "rn_amp_name = psr.name + '_red_noise_log10_A'\n",
    "\n",
    "\n",
    "gammas = np.linspace(0, 7, 70, endpoint=True) #grid points for gamma'\n",
    "gamma_spacing ='0,7,70'\n",
    "gamma_name=psr.name + '_red_noise_gamma'\n",
    "\n",
    "# Now we collect all of these in a dictionary for the pta so it can sample in whichever order it turns out to be\n",
    "# This is because I'm worried that the order of the params is off, and we're sampling the wrong values for the params\n",
    "# The dictionary will look something like:\n",
    "\n",
    "# param_spacing_dict[par_name] = (actual_array, spacing_text)\n",
    "\n",
    "param_spacing_dict = {}\n",
    "\n",
    "param_spacing_dict[time_name] = (Ts, time_spacing) \n",
    "param_spacing_dict[sign_name] = (signs, sign_spacing)\n",
    "param_spacing_dict[burst_amp_name] = (log10_burst_amplitudes, burst_amp_spacing)\n",
    "param_spacing_dict[rn_amp_name] = (log10_rn_amps, rn_amp_spacing)\n",
    "param_spacing_dict[gamma_name] = (gammas, gamma_spacing) \n",
    "\n",
    "\n",
    "\n",
    "\n",
    "outdir = '/home/nima/nanograv/11yr_burst_factorizedlikelihood/single_psr_lookup_v3/'\n",
    "if not os.path.exists(outdir + psr.name):\n",
    "    os.mkdir(outdir + psr.name)\n",
    "\n",
    "\n",
    "\n",
    "##################\n",
    "#####   PTA   ####\n",
    "##################\n",
    "\n",
    "### Define the PTA \n",
    "\n",
    "\n",
    "pta = ee_models.model_ramp([psr],\n",
    "                      upper_limit=False, bayesephem=False,\n",
    "                      Tmin_bwm=t0min, Tmax_bwm=t0max)\n",
    "\n",
    "pta.set_default_params(setpars)\n",
    "\n",
    "\n",
    "outfile = outdir + psr.name + '/pars.txt'\n",
    "with open(outfile, 'w') as f:\n",
    "    for pname in pta.param_names:\n",
    "        f.write(pname+';'+param_spacing_dict[pname][1]+'\\n')\n"
   ]
  },
  {
   "cell_type": "code",
   "execution_count": null,
   "metadata": {
    "scrolled": true
   },
   "outputs": [],
   "source": [
    "print(pta.param_names)\n",
    "print(param_spacing_dict['sign'])\n"
   ]
  },
  {
   "cell_type": "code",
   "execution_count": null,
   "metadata": {
    "scrolled": true
   },
   "outputs": [],
   "source": [
    "# Now that the parameters are defined, we need to build an x_0 in the right order to pass into the pta\n",
    "# to evaluate the likelihood\n",
    "\n",
    "idxs = []\n",
    "\n",
    "for param in pta.param_names:\n",
    "    idxs.append(len(param_spacing_dict[param][0]))\n",
    "likelihoods = []\n",
    "print(idxs)\n",
    "\n",
    "for i4 in range(idxs[4]):\n",
    "    for i3 in range(idxs[3]):\n",
    "        for i2 in range(idxs[2]):\n",
    "            for i1 in range(idxs[1]):\n",
    "                for i0 in range(idxs[0]):\n",
    "                    xs = []\n",
    "                    xs.append(param_spacing_dict[pta.param_names[0]][0][i0])\n",
    "                    xs.append(param_spacing_dict[pta.param_names[1]][0][i1])\n",
    "                    xs.append(param_spacing_dict[pta.param_names[2]][0][i2])\n",
    "                    xs.append(param_spacing_dict[pta.param_names[3]][0][i3])\n",
    "                    xs.append(param_spacing_dict[pta.param_names[4]][0][i4])\n",
    "                    \n",
    "                    likelihoods.append(pta._lnlikelihood.__call__(xs))\n",
    "    \n",
    "                                 \n",
    "                    \n",
    "\n"
   ]
  },
  {
   "cell_type": "code",
   "execution_count": null,
   "metadata": {
    "scrolled": true
   },
   "outputs": [],
   "source": [
    "from sys import getsizeof\n",
    "print(getsizeof(likelihoods)/(1024)/1024/1024)"
   ]
  },
  {
   "cell_type": "code",
   "execution_count": null,
   "metadata": {},
   "outputs": [],
   "source": [
    "type(pta._lnlikelihood)"
   ]
  },
  {
   "cell_type": "code",
   "execution_count": null,
   "metadata": {},
   "outputs": [],
   "source": [
    "np.savetxt('/home/nima/nanograv/11yr_burst_factorizedlikelihood/single_psr_lookup_v3/B1855+09/B1855+09_lookup.txt', likelihoods)"
   ]
  },
  {
   "cell_type": "markdown",
   "metadata": {},
   "source": [
    "## This code uses lookup tables to run a factorized likelihood BWM Ramp estimation"
   ]
  },
  {
   "cell_type": "code",
   "execution_count": null,
   "metadata": {},
   "outputs": [],
   "source": [
    "from __future__ import division\n",
    "\n",
    "\n",
    "import sys\n",
    "\n",
    "import numpy as np\n",
    "import os, glob, json\n",
    "import matplotlib.pyplot as plt\n",
    "import pickle\n",
    "import scipy.linalg as sl\n",
    "import healpy as hp\n",
    "import multiprocessing as mp\n",
    "import time\n",
    "\n",
    "from enterprise.signals import parameter\n",
    "from enterprise.signals import signal_base\n",
    "from enterprise.signals import deterministic_signals\n",
    "from enterprise.signals import utils\n",
    "from enterprise import constants as const\n",
    "\n",
    "from enterprise_extensions import models as ee_models\n",
    "from enterprise_extensions import model_utils as ee_model_utils\n",
    "from enterprise_extensions import sampler as ee_sampler\n",
    "from enterprise.signals.signal_base import LookupLikelihood\n",
    "from enterprise.signals.signal_base import LogLikelihood\n",
    "\n",
    "from PTMCMCSampler.PTMCMCSampler import PTSampler as ptmcmc\n",
    "\n",
    "pklfile = '/home/nima/nanograv/11yr_burst_factorizedlikelihood/NANOGrav_11yr_DE436.pickle'\n",
    "with open(pklfile, 'rb') as f:\n",
    "    psrs=pickle.load(f)\n",
    "    \n",
    "for each in psrs:\n",
    "    if each.name == \"B1855+09\":\n",
    "        psr = each\n",
    "\n",
    "noisefile = '/home/nima/nanograv/11yr_burst_factorizedlikelihood/noisefiles/noisedict.json'\n",
    "lookupdir = '/home/nima/nanograv/11yr_burst_factorizedlikelihood/single_psr_lookup_v4/'\n",
    "U,_ = utils.create_quantization_matrix(psr.toas)\n",
    "eps = 9  # clip first and last N observing epochs\n",
    "t0min = np.floor(max(U[:,eps] * psr.toas/const.day))\n",
    "t0max = np.ceil(max(U[:,-eps] * psr.toas/const.day))\n",
    "\n",
    "pta = ee_models.model_ramp([psr], LookupLikelihood, lookupdir=lookupdir, upper_limit=False, bayesephem=False,\n",
    "                          Tmin_bwm=t0min, Tmax_bwm=t0max)\n",
    "\n",
    "\n",
    "\n",
    "outdir = '/home/nima/nanograv/11yr_burst_factorizedlikelihood/sgl_psr_run/ramp_factorized_v4/'\n",
    "np.savetxt(outdir+'pars.txt',list(map(str, pta.param_names)), fmt='%s')\n",
    "np.savetxt(outdir+'priors.txt',list(map(lambda x: str(x.__repr__()), pta.params)), fmt='%s')\n"
   ]
  },
  {
   "cell_type": "code",
   "execution_count": null,
   "metadata": {},
   "outputs": [],
   "source": [
    "noisefile = '/home/nima/nanograv/11yr/noisefiles/noisedict.json'\n",
    "with open(noisefile, 'rb') as nfile:\n",
    "    setpars = json.load(nfile)\n",
    "\n",
    "pta.set_default_params(setpars)\n"
   ]
  },
  {
   "cell_type": "code",
   "execution_count": null,
   "metadata": {},
   "outputs": [],
   "source": [
    "x0 = np.hstack(p.sample() for p in pta.params)\n",
    "print(pta.params)"
   ]
  },
  {
   "cell_type": "code",
   "execution_count": null,
   "metadata": {
    "scrolled": false
   },
   "outputs": [],
   "source": [
    "pta.get_lnlikelihood(x0)\n",
    "print(type(pta._lnlikelihood))\n",
    "print(pta.get_lnlikelihood(x0))"
   ]
  },
  {
   "cell_type": "code",
   "execution_count": null,
   "metadata": {},
   "outputs": [],
   "source": [
    "ndim = len(x0)\n",
    "\n",
    "# initial jump covariance matrix\n",
    "cov = np.diag(np.ones(ndim) * 0.1**2)\n",
    "\n",
    "np.savetxt(outdir+\"pars.txt\",list(map(str, pta.param_names)), fmt='%s')\n",
    "sampler = ptmcmc(ndim, pta.get_lnlikelihood, pta.get_lnprior, cov,  outDir=outdir, resume=False)"
   ]
  },
  {
   "cell_type": "code",
   "execution_count": null,
   "metadata": {},
   "outputs": [],
   "source": [
    "jp = ee_sampler.JumpProposal(pta)\n",
    "sampler.addProposalToCycle(jp.draw_from_prior, 30)\n",
    "\n",
    "sampler.sample(x0, int(3e5), SCAMweight=30, AMweight=50, DEweight=0)"
   ]
  },
  {
   "cell_type": "code",
   "execution_count": null,
   "metadata": {},
   "outputs": [],
   "source": [
    "pta.get_lnlikelihood(x0)"
   ]
  },
  {
   "cell_type": "markdown",
   "metadata": {},
   "source": [
    "## Postprocessing the Above\n"
   ]
  },
  {
   "cell_type": "code",
   "execution_count": null,
   "metadata": {},
   "outputs": [],
   "source": [
    "from la_forge.core import Core\n",
    "from la_forge.diagnostics import plot_chains"
   ]
  },
  {
   "cell_type": "code",
   "execution_count": null,
   "metadata": {
    "scrolled": true
   },
   "outputs": [],
   "source": [
    "chaindir_factorized = '/home/nima/nanograv/11yr_burst_factorizedlikelihood/sgl_psr_run/ramp_factorized_v4/'\n",
    "chaindir_noramp = '/home/nima/nanograv/11yr_burst_factorizedlikelihood/sgl_psr_run/ramp_pta_no_ramp/'\n",
    "#chaindir_standard_bwm = '/home/nima/nanograv/11yr_burst_factorizedlikelihood/sgl_psr_run/burst_pta_paul_sgl/'\n",
    "chaindir_standard_ramp = '/home/nima/nanograv/11yr_burst_factorizedlikelihood/sgl_psr_run/ramp_pta_jerry_sgl/'\n",
    "core_factorized=Core(label=\"B1855 BWM Factorized\", chaindir=chaindir_factorized, burn=0)\n",
    "core_noramp = Core(label=\"B1855 Ram PTA, A=0\", chaindir=chaindir_noramp, burn=0)\n",
    "#core_standard_bwm=Core(label=\"B1855 BWM Standard BWM Run\", chaindir = chaindir_standard_bwm, burn=0)\n",
    "core_standard_ramp=Core(label=\"B1855 Ramp Standard BWM Run\", chaindir = chaindir_standard_ramp, burn=0)"
   ]
  },
  {
   "cell_type": "code",
   "execution_count": null,
   "metadata": {
    "scrolled": true
   },
   "outputs": [],
   "source": [
    "plot_chains(core_factorized, hist=False, suptitle= \"Factorized likelihood run\",exclude=[\"lnlike\", \"chain_accept\", \"pt_chain_accept\", \"lnprior\"])\n",
    "plot_chains(core_noramp, hist=False, suptitle= \"A=0 run\",exclude=[\"lnlike\", \"chain_accept\", \"pt_chain_accept\", \"lnprior\"])\n",
    "#plot_chains(core_standard_bwm, hist=False, suptitle= \"Standard burst bwm run\",exclude=[\"lnlike\", \"chain_accept\", \"pt_chain_accept\", \"lnprior\"])\n",
    "plot_chains(core_standard_ramp, hist=False, suptitle= \"Standard burst ramp run\",exclude=[\"lnlike\", \"chain_accept\", \"pt_chain_accept\", \"lnprior\"])"
   ]
  },
  {
   "cell_type": "code",
   "execution_count": null,
   "metadata": {
    "scrolled": false
   },
   "outputs": [],
   "source": [
    "plot_chains(core_factorized, hist=True, suptitle= \"Factorized likelihood run\",exclude=[\"lnlike\", \"chain_accept\", \"pt_chain_accept\", \"lnprior\"])\n",
    "plot_chains(core_noramp, hist=True, suptitle= \"A=0 Run\",exclude=[\"lnlike\", \"chain_accept\", \"pt_chain_accept\", \"lnprior\"])\n",
    "\n",
    "#plot_chains(core_standard_bwm, hist=True, suptitle= \"Standard burst bwm run\",exclude=[\"lnlike\", \"chain_accept\", \"pt_chain_accept\", \"lnprior\"])\n",
    "plot_chains(core_standard_ramp, hist=True, suptitle= \"Standard burst ramp run\",exclude=[\"lnlike\", \"chain_accept\", \"pt_chain_accept\", \"lnprior\"])"
   ]
  },
  {
   "cell_type": "markdown",
   "metadata": {},
   "source": [
    "# Miscellaneous Scratch Work (comparing different runs in depth mostly)"
   ]
  },
  {
   "cell_type": "code",
   "execution_count": null,
   "metadata": {},
   "outputs": [],
   "source": [
    "indiv_log10_As = core_factorized.get_param(\"B1855+09_red_noise_log10_A\")\n",
    "signs = core_factorized.get_param(\"sign\")\n",
    "\n",
    "positive_idxs = []\n",
    "negative_idxs = []\n",
    "for idx in range(len(signs)):\n",
    "    if signs[idx] > 0:\n",
    "        positive_idxs.append(idx)\n",
    "    else:\n",
    "        negative_idxs.append(idx)\n",
    "\n",
    "positive_log10_As = []\n",
    "negative_log10_As = []\n",
    "for idx in positive_idxs:\n",
    "    positive_log10_As.append(indiv_log10_As[idx])\n",
    "\n",
    "for idx in negative_idxs:\n",
    "    negative_log10_As.append(indiv_log10_As[idx])\n",
    "\n",
    "plt.hist(positive_log10_As, bins=30, fill=False)\n"
   ]
  },
  {
   "cell_type": "code",
   "execution_count": null,
   "metadata": {},
   "outputs": [],
   "source": [
    "plt.hist(negative_log10_As, bins=30, fill=False)"
   ]
  },
  {
   "cell_type": "code",
   "execution_count": null,
   "metadata": {},
   "outputs": [],
   "source": [
    "# We notice in the above two plots of the standard runs, the ramp_log10_A is pretty much preferring -14 to -13.\n",
    "# Let's excise the elements of the chains where this happens and see if the lookup table agrees\n",
    "\n",
    "log10_As_chain = core_standard_ramp.get_param(\"ramp_log10_A\")\n",
    "idxs = []\n",
    "for link_idx in range(len(log10_As_chain)):\n",
    "    if log10_As_chain[link_idx] > -14 and log10_As_chain[link_idx] < -13:\n",
    "        idxs.append(link_idx)\n",
    "\n",
    "pref_As_chain = []\n",
    "for link_idx in range(len(core_standard_ramp.chain)):\n",
    "    if link_idx in idxs:\n",
    "        pref_As_chain.append(core_standard_ramp.chain[link_idx])\n",
    "    \n"
   ]
  },
  {
   "cell_type": "code",
   "execution_count": null,
   "metadata": {},
   "outputs": [],
   "source": [
    "## lnprior is now actually lnlike, at index -3, thanks to the addition of the temperature in the chain \n",
    "## TODO: Have to fix this because it's actually causing unwanted side effects in la_forge\n",
    "\n",
    "xs = np.array(pref_As_chain)[:, 0:5]\n",
    "lnlikes = np.array(pref_As_chain)[:, -3]\n",
    "#print(xs)\n",
    "#print(lnlikes)\n",
    "\n",
    "print(max(lnlikes))\n",
    "print(max(likelihoods))\n",
    "\n",
    "#These give the same-ish number.. this looks like it works, but I think it's the same as before!"
   ]
  },
  {
   "cell_type": "code",
   "execution_count": null,
   "metadata": {},
   "outputs": [],
   "source": [
    "# Let's make some corner plots of A and gamma\n",
    "import corner\n",
    "\n",
    "Arns = core_standard_ramp.get_param(\"B1855+09_red_noise_log10_A\")\n",
    "gammas = core_standard_ramp.get_param(\"B1855+09_red_noise_gamma\")\n",
    "\n",
    "data=np.vstack([Arns, gammas]).T\n",
    "print(data)\n",
    "corner.corner(data)"
   ]
  },
  {
   "cell_type": "code",
   "execution_count": null,
   "metadata": {},
   "outputs": [],
   "source": [
    "import copy\n",
    "\n",
    "factorized_signs = core_factorized.get_param(\"sign\")\n",
    "idxs = []\n",
    "for i in range(len(factorized_signs)):\n",
    "    if factorized_signs[i] < 0:\n",
    "        idxs.append(i)\n",
    "        \n",
    "        \n",
    "factorized_t0s = core_factorized.get_param(\"ramp_t0\")\n",
    "\n",
    "negative_signed_t0s = []\n",
    "positive_signed_t0s = copy.deepcopy(factorized_t0s)\n",
    "\n",
    "print(len(positive_signed_t0s), len(idxs))\n",
    "positive_signed_t0s = np.delete(positive_signed_t0s, idxs)\n",
    "\n",
    "      \n",
    "for idx in idxs:\n",
    "    negative_signed_t0s.append(factorized_t0s[idx])\n",
    "    \n",
    "print(len(negative_signed_t0s) + len(positive_signed_t0s))\n",
    "print(len(factorized_t0s))\n",
    "\n"
   ]
  },
  {
   "cell_type": "code",
   "execution_count": null,
   "metadata": {},
   "outputs": [],
   "source": [
    "plt.hist(negative_signed_t0s, bins=30)\n",
    "plt.title(\"burst epochs with negative sign\")"
   ]
  },
  {
   "cell_type": "code",
   "execution_count": null,
   "metadata": {},
   "outputs": [],
   "source": [
    "plt.hist(positive_signed_t0s, bins=30)\n",
    "plt.title(\"burst epochs with positive sign\")"
   ]
  },
  {
   "cell_type": "markdown",
   "metadata": {},
   "source": [
    "# Trying to implement the multi-pulsar BWM sampling PTA"
   ]
  },
  {
   "cell_type": "code",
   "execution_count": null,
   "metadata": {},
   "outputs": [],
   "source": [
    "from __future__ import division\n",
    "\n",
    "\n",
    "import sys\n",
    "\n",
    "import numpy as np\n",
    "import os, glob, json\n",
    "import matplotlib.pyplot as plt\n",
    "import pickle\n",
    "import scipy.linalg as sl\n",
    "import healpy as hp\n",
    "import multiprocessing as mp\n",
    "import time\n",
    "\n",
    "from enterprise.pulsar import Pulsar\n",
    "from enterprise.signals import parameter\n",
    "from enterprise.signals import selections\n",
    "from enterprise.signals import utils\n",
    "from enterprise.signals import signal_base\n",
    "from enterprise.signals import white_signals\n",
    "from enterprise.signals import gp_signals\n",
    "from enterprise.signals import deterministic_signals\n",
    "import enterprise.constants as const\n",
    "\n",
    "from enterprise_extensions import models as ee_models\n",
    "from enterprise_extensions import model_utils as ee_model_utils\n",
    "from enterprise_extensions import sampler as ee_sampler\n",
    "from enterprise.signals.signal_base import LookupLikelihood\n",
    "from enterprise.signals.signal_base import LogLikelihood\n",
    "\n",
    "from PTMCMCSampler.PTMCMCSampler import PTSampler as ptmcmc\n",
    "\n",
    "#Start by loading the pulsars and noisedict\n",
    "pklfile = '/home/nima/nanograv/11yr_burst_factorizedlikelihood/NANOGrav_11yr_DE436.pickle'\n",
    "noisefile = '/home/nima/nanograv/11yr_burst_factorizedlikelihood/noisefiles/noisedict.json'\n",
    "\n",
    "with open(pklfile, 'rb') as f:\n",
    "    psrs = pickle.load(f)\n",
    "\n",
    "with open(noisefile, 'rb') as f:\n",
    "    noisedict = json.load(f)\n",
    "  "
   ]
  },
  {
   "cell_type": "code",
   "execution_count": null,
   "metadata": {},
   "outputs": [],
   "source": [
    "################\n",
    "# Building PTA #\n",
    "################\n",
    "\n",
    "# Get the max and minimum t0s for the pta\n",
    "# We need to decide how to treat burst epochs that are out of range of\n",
    "# some of the pulsars, since we have different baselines\n",
    "\n",
    "tmin = np.min([p.toas.min() for p in psrs])\n",
    "tmax = np.max([p.toas.max() for p in psrs])\n",
    "Tspan = tmax - tmin\n",
    "\n",
    "\n",
    "# Build the white noise model\n",
    "# These parameters will be fixed\n",
    "selection = selections.Selection(selections.by_backend)\n",
    "\n",
    "efac = parameter.Constant()\n",
    "equad = parameter.Constant()\n",
    "ecorr = parameter.Constant()\n",
    "\n",
    "ef = white_signals.MeasurementNoise(efac=efac, selection=selection)\n",
    "eq = white_signals.EquadNoise(log10_equad=equad, selection=selection)\n",
    "ec = white_signals.EcorrKernelNoise(log10_ecorr=ecorr, selection=selection)\n",
    "\n",
    "wn = ef + eq + ec #We're including ecorr bc these are all NANOGrav backend psrs\n",
    "\n",
    "\"\"\"\n",
    "In this iteration, we're going to try a global set of parameters for bwm\n",
    "that get fed into each pulsar. Not sure how we're going to do this in the\n",
    "actual code, but for now, I'll try to structure things this way.\n",
    "For this run, we want the following parameters to vary:\n",
    "      Globally: [bwm_costheta, bwm_phi, bwm_psi, bwm_h0, bwm_t0]\n",
    "      per pulsar: [psr_red_noise_log10_A, psr_red_noise_gamma]\n",
    "For a total of 5 + 4*Npsr parameters. Furthermore, note that the format of the names above is the one that reflects\n",
    "the naming conventions I've used in the lookup tables, so for now we just have to use these.\n",
    "\n",
    "Furthermore, the 5 global parameters will be fed into each pulsar to inform that\n",
    "particular pulsar's bwm parameters (we need to explicitly calculated A, t0 and sign for each\n",
    "pulsar given the global parameters during a particular step)\n",
    "\n",
    "\"\"\"\n",
    "\n",
    "\n",
    "# Build the red noise model that will exist for each pulsar\n",
    "rn_log10_A = parameter.Uniform(-18, -12) #These bounds on rn_l10A reflect the lookup-table limits\n",
    "rn_gamma = parameter.Uniform(0, 7)\n",
    "\n",
    "rn_pl = utils.powerlaw(log10_A=rn_log10_A, gamma=rn_gamma)\n",
    "rn = gp_signals.FourierBasisGP(rn_pl, components=30, Tspan=Tspan)\n",
    "\n",
    "# Build the global BWM parameters\n",
    "bwm_costheta = parameter.Uniform(-1, -1)('bwm_costheta')\n",
    "bwm_phi = parameter.Uniform(0, 2*np.pi)('bwm_phi')\n",
    "bwm_psi = parameter.Uniform(0, np.pi)('bwm_pol')\n",
    "bwm_h0 = parameter.Uniform(-18, -12)('bwm_h0')\n",
    "bwm_t0 = parameter.Uniform(t0min, t0max)('bwm_t0')\n",
    "\n",
    "bwm_wf = utils.bwm_delay(log10_h=bwm_h0, t0=bwm_t0,\n",
    "                            cos_gwtheta=bwm_costheta, gwphi=bwm_phi, gwpol=bwm_psi)\n",
    "bwm = deterministic_signals.Deterministic(bwm_wf, name='bwm')\n",
    "\n",
    "# Build timing model\n",
    "tm = gp_signals.TimingModel(use_svd=False)\n",
    "\n",
    "s = tm + wn + rn + bwm\n",
    "\n",
    "# Apply the complete model to each pulsar\n",
    "models = []\n",
    "for p in psrs:\n",
    "    models.append(s(p))\n",
    "    \n",
    "# Now construct the PTA\n",
    "lookupdir = '/home/nima/nanograv/11yr_burst_factorizedlikelihood/single_psr_lookup_v4/'\n",
    "pta = signal_base.PTA(models, lnlikelihood=LookupLikelihood, lookupdir=lookupdir)\n",
    "\n"
   ]
  },
  {
   "cell_type": "markdown",
   "metadata": {},
   "source": [
    "# Actual random tomfoolery"
   ]
  },
  {
   "cell_type": "code",
   "execution_count": null,
   "metadata": {},
   "outputs": [],
   "source": [
    "psrs = []\n",
    "noise_path = '/home/nima/nanograv/15yr_prelim1/noisefiles/noisedict.json'\n",
    "pkl_path = '/home/nima/nanograv/15yr_prelim1/nano15yr_prelim1_DE438_BIPM2018_45psrs.pkl'\n",
    "\n",
    "with open(pkl_path, 'rb') as f:\n",
    "    psrs=pickle.load(f)\n",
    "\n",
    "#Load in noise parameters\n",
    "with open(noise_path, 'r') as f:\n",
    "    noise_params = json.load(f)\n",
    "    \n",
    "pta=ee_models.model_general(psrs, common_psd='powerlaw', red_psd='powerlaw', common_components=5, red_components=30)\n"
   ]
  },
  {
   "cell_type": "code",
   "execution_count": null,
   "metadata": {},
   "outputs": [],
   "source": [
    "pta.set_default_params(noise_params)"
   ]
  },
  {
   "cell_type": "code",
   "execution_count": null,
   "metadata": {},
   "outputs": [],
   "source": [
    "print(pta._commonsignals)\n",
    "print(pta.param_names)"
   ]
  },
  {
   "cell_type": "code",
   "execution_count": null,
   "metadata": {},
   "outputs": [],
   "source": [
    "print(pta.signals['B1855+09_gw'].get_basis.modes)"
   ]
  },
  {
   "cell_type": "code",
   "execution_count": 8,
   "metadata": {},
   "outputs": [],
   "source": [
    "psrname = 'B1937+21'\n",
    "lookup = '/home/nima/nanograv/11yr_burst_factorizedlikelihood/single_psr_lookup_v4/{}/{}_lookup.txt'.format(psrname, psrname)\n",
    "\n",
    "f = open(lookup, 'rb')"
   ]
  },
  {
   "cell_type": "code",
   "execution_count": 9,
   "metadata": {},
   "outputs": [
    {
     "name": "stdout",
     "output_type": "stream",
     "text": [
      "19\n",
      "b'197111.096244125336\\n'\n"
     ]
    }
   ],
   "source": [
    "bytes_per_line = 0\n",
    "out = []\n",
    "f.seek(0,0)\n",
    "while f.read(1) != b'\\n':\n",
    "    bytes_per_line += 1\n",
    "print(bytes_per_line)\n",
    "f.seek(0,0)\n",
    "print(f.read(bytes_per_line +1))\n",
    "f.read()"
   ]
  },
  {
   "cell_type": "code",
   "execution_count": 10,
   "metadata": {
    "scrolled": true
   },
   "outputs": [
    {
     "ename": "ValueError",
     "evalue": "could not convert string to float: '0380.932440489531\\n9'",
     "output_type": "error",
     "traceback": [
      "\u001b[0;31m---------------------------------------------------------------------------\u001b[0m",
      "\u001b[0;31mValueError\u001b[0m                                Traceback (most recent call last)",
      "\u001b[0;32m<ipython-input-10-c23d69e49f88>\u001b[0m in \u001b[0;36m<module>\u001b[0;34m\u001b[0m\n\u001b[1;32m      3\u001b[0m \u001b[0;32mwhile\u001b[0m \u001b[0;32mTrue\u001b[0m\u001b[0;34m:\u001b[0m\u001b[0;34m\u001b[0m\u001b[0;34m\u001b[0m\u001b[0m\n\u001b[1;32m      4\u001b[0m     \u001b[0mf\u001b[0m\u001b[0;34m.\u001b[0m\u001b[0mseek\u001b[0m\u001b[0;34m(\u001b[0m\u001b[0;34m(\u001b[0m\u001b[0mbytes_per_line\u001b[0m\u001b[0;34m+\u001b[0m\u001b[0;36m1\u001b[0m\u001b[0;34m)\u001b[0m\u001b[0;34m*\u001b[0m\u001b[0mline_no\u001b[0m\u001b[0;34m,\u001b[0m \u001b[0;36m0\u001b[0m\u001b[0;34m)\u001b[0m\u001b[0;34m\u001b[0m\u001b[0;34m\u001b[0m\u001b[0m\n\u001b[0;32m----> 5\u001b[0;31m     \u001b[0mnum\u001b[0m \u001b[0;34m=\u001b[0m \u001b[0mfloat\u001b[0m\u001b[0;34m(\u001b[0m\u001b[0mf\u001b[0m\u001b[0;34m.\u001b[0m\u001b[0mread\u001b[0m\u001b[0;34m(\u001b[0m\u001b[0mbytes_per_line\u001b[0m\u001b[0;34m)\u001b[0m\u001b[0;34m.\u001b[0m\u001b[0mdecode\u001b[0m\u001b[0;34m(\u001b[0m\u001b[0;34m)\u001b[0m\u001b[0;34m)\u001b[0m\u001b[0;34m\u001b[0m\u001b[0;34m\u001b[0m\u001b[0m\n\u001b[0m\u001b[1;32m      6\u001b[0m     \u001b[0mline_no\u001b[0m\u001b[0;34m+=\u001b[0m\u001b[0;36m1\u001b[0m\u001b[0;34m\u001b[0m\u001b[0;34m\u001b[0m\u001b[0m\n",
      "\u001b[0;31mValueError\u001b[0m: could not convert string to float: '0380.932440489531\\n9'"
     ]
    }
   ],
   "source": [
    "f.seek(0,0)\n",
    "line_no = 0\n",
    "while True:\n",
    "    f.seek((bytes_per_line+1)*line_no, 0)\n",
    "    num = float(f.read(bytes_per_line).decode())\n",
    "    line_no+=1"
   ]
  },
  {
   "cell_type": "code",
   "execution_count": 18,
   "metadata": {},
   "outputs": [
    {
     "name": "stdout",
     "output_type": "stream",
     "text": [
      "b'199682.301539704204\\n199682.092635020614\\n199681.866780921817\\n199681.623727083206\\n199681.363259628415\\n199681.085206136107\\n199680.789437279105\\n199680.475870132446\\n199680.144470170140\\n90380.932410389185\\n90380.932440489531\\n90380.932476490736\\n90380.932520568371\\n90380.932573288679\\n90380.932636678219\\n90380.932714045048\\n90380.932807683945\\n90380.932922720909\\n90380.933062642813\\n90380.933234810829\\n90380.93344'\n"
     ]
    }
   ],
   "source": [
    "line_start = line_no - 10\n",
    "line_end = line_no + 10\n",
    "\n",
    "out = []\n",
    "\n",
    "f.seek((bytes_per_line+1)*line_start,0)\n",
    "\n",
    "out = f.read((bytes_per_line+1)*20)\n",
    "print(out)"
   ]
  },
  {
   "cell_type": "code",
   "execution_count": null,
   "metadata": {},
   "outputs": [],
   "source": [
    "f.seek((bytes_per_line+1) * line_no, 0)\n",
    "string = f.read(bytes_per_line).decode()"
   ]
  },
  {
   "cell_type": "code",
   "execution_count": 25,
   "metadata": {},
   "outputs": [
    {
     "name": "stdout",
     "output_type": "stream",
     "text": [
      "199682.301539704204\n",
      "199682.092635020614\n",
      "199681.866780921817\n",
      "199681.623727083206\n",
      "199681.363259628415\n",
      "199681.085206136107\n",
      "199680.789437279105\n",
      "199680.475870132446\n",
      "199680.144470170140\n",
      "90380.932410389185\n",
      "90380.932440489531\n",
      "90380.932476490736\n",
      "90380.932520568371\n",
      "90380.932573288679\n",
      "90380.932636678219\n",
      "90380.932714045048\n",
      "90380.932807683945\n",
      "90380.932922720909\n",
      "90380.933062642813\n",
      "90380.933234810829\n",
      "90380.93344\n"
     ]
    }
   ],
   "source": [
    "print(out.decode())"
   ]
  },
  {
   "cell_type": "code",
   "execution_count": 75,
   "metadata": {},
   "outputs": [
    {
     "name": "stdout",
     "output_type": "stream",
     "text": [
      " 199682.3015397042\n",
      "  90380.9324404895\n",
      "199682.301539704204\n",
      "90380.932440489501\n"
     ]
    },
    {
     "data": {
      "text/plain": [
       "123.4"
      ]
     },
     "execution_count": 75,
     "metadata": {},
     "output_type": "execute_result"
    }
   ],
   "source": [
    "float1 = 199682.301539704204\n",
    "float2 = 90380.93244048950000\n",
    "\n",
    "print(str(float1).rjust(18))\n",
    "print(str(float2).rjust(18))\n",
    "\n",
    "str1 = \"{:.12f}\".format(float1)\n",
    "str2 = \"{:.12f}\".format(float2)\n",
    "\n",
    "print(str1)\n",
    "print(str2)\n",
    "\n",
    "float(\"  123.4\")"
   ]
  },
  {
   "cell_type": "markdown",
   "metadata": {},
   "source": [
    "# Scratch for testing multi-psr bwm search"
   ]
  },
  {
   "cell_type": "code",
   "execution_count": 76,
   "metadata": {},
   "outputs": [
    {
     "name": "stdout",
     "output_type": "stream",
     "text": [
      "No noise dictionary provided!...\n",
      "No noise dictionary provided!...\n"
     ]
    }
   ],
   "source": [
    "from __future__ import division\n",
    "\n",
    "\n",
    "import sys\n",
    "\n",
    "import numpy as np\n",
    "import os, glob, json\n",
    "import matplotlib.pyplot as plt\n",
    "import pickle\n",
    "import scipy.linalg as sl\n",
    "import healpy as hp\n",
    "import multiprocessing as mp\n",
    "import time\n",
    "\n",
    "from enterprise.pulsar import Pulsar\n",
    "from enterprise.signals import parameter\n",
    "from enterprise.signals import selections\n",
    "from enterprise.signals import utils\n",
    "from enterprise.signals import signal_base\n",
    "from enterprise.signals import white_signals\n",
    "from enterprise.signals import gp_signals\n",
    "from enterprise.signals import deterministic_signals\n",
    "import enterprise.constants as const\n",
    "\n",
    "from enterprise_extensions import models as ee_models\n",
    "from enterprise_extensions import model_utils as ee_model_utils\n",
    "from enterprise_extensions import sampler as ee_sampler\n",
    "from enterprise.signals.signal_base import LookupLikelihood\n",
    "from enterprise.signals.signal_base import LogLikelihood\n",
    "\n",
    "from PTMCMCSampler.PTMCMCSampler import PTSampler as ptmcmc\n",
    "\n",
    "def get_pos(psrname, psrs):\n",
    "    for psr in psrs:\n",
    "        if psr.name == psrname:\n",
    "            mypsr = psr\n",
    "    \n",
    "    return mypsr.pos\n",
    "\n",
    "def bwm_to_ramp_condenser(xs, psr, pta_param_names):\n",
    "    # We want to condense:\n",
    "    # bwm_costheta, bwm_log10_A, bwm_phi, bwm_pol, bwm_t0, the global parameters\n",
    "    # This function should return a new vector xs, with bwm_* gone, and turned into ramp_* and sign\n",
    "    # in the following order: ramp_log10_A, ramp_t0, sign\n",
    "    \n",
    "    #start by retrieving all the relevant numbers from xs\n",
    "    pos=psr.pos\n",
    "    cos_gwtheta = xs[pta_param_names.index(\"bwm_costheta\")]\n",
    "    log10_h = xs[pta_param_names.index(\"bwm_log10_A\")]\n",
    "    gwphi = xs[pta_param_names.index(\"bwm_phi\")]\n",
    "    gwpol = xs[pta_param_names.index(\"bwm_pol\")]\n",
    "    t0 = xs[pta_param_names.index(\"bwm_t0\")]\n",
    "    \n",
    "    #print(\"{}\\n{}\\n{}\\n{}\\n{}\\n{}\".format(pos, cos_gwtheta, log10_h, gwphi, gwpol, t0))\n",
    "    \n",
    "    #refer to enterprise.utils.bwm_delay for this calculation\n",
    "    h = 10**log10_h\n",
    "    gwtheta = np.arccos(cos_gwtheta)\n",
    "    \n",
    "    apc=utils.create_gw_antenna_pattern(pos, gwtheta, gwphi)\n",
    "    fp, fc = apc[0], apc[1]\n",
    "    pol=np.cos(2*gwpol) * fp + np.sin(2 * gwpol) * fc\n",
    "    #sign of memory is dictated by this polarization calculation, the strain will always be positive\n",
    "    if pol < 0:\n",
    "        sign = -1\n",
    "    else:\n",
    "        sign = 1\n",
    "    \n",
    "    ramp_log10_A = np.log10(abs(h*pol))\n",
    "     \n",
    "    # Now the amplitude is just pol * h, and t0 remains the same\n",
    "    # We need to create the new xs array for the lookups  \n",
    "    # start building the return by copying everything over before the condensed parameters\n",
    "    new_xs = []\n",
    "    new_param_names = []\n",
    "    for i in range(pta_param_names.index(\"bwm_costheta\")):\n",
    "        new_xs.append(xs[i])\n",
    "        new_param_names.append(pta_param_names[i])\n",
    "        \n",
    "    \n",
    "    #copy over new stuff\n",
    "    new_xs.append(ramp_log10_A)\n",
    "    new_xs.append(t0)\n",
    "    new_xs.append(sign)\n",
    "    \n",
    "    new_param_names.append(\"ramp_log10_A\")\n",
    "    new_param_names.append(\"ramp_t0\")\n",
    "    new_param_names.append(\"sign\")\n",
    "    \n",
    "    return new_xs, new_param_names\n",
    "\n",
    "pklfile = '/home/nima/nanograv/11yr_burst_factorizedlikelihood/NANOGrav_11yr_DE436.pickle'\n",
    "noisefile = '/home/nima/nanograv/11yr_burst_factorizedlikelihood/noisefiles/noisedict.json'\n",
    "lookupdir = '/home/nima/nanograv/11yr_burst_factorizedlikelihood/single_psr_lookup_v4/'\n",
    "\n",
    "with open(pklfile, 'rb') as f:\n",
    "    psrs=pickle.load(f)\n",
    "\n",
    "#Load in noise parameters\n",
    "with open(noisefile, 'r') as f:\n",
    "    noise_params = json.load(f)\n",
    "\n",
    "mypsrs = [psrs[0], psrs[2]]\n",
    "\n",
    "\n",
    "\n",
    "amp_spacing = '-18,-12,60'\n",
    "log10_amps = np.linspace(-18, -12, 60, endpoint=True)\n",
    "\n",
    "gamma_spacing ='0,7,70'\n",
    "gammas = np.linspace(0, 7, 70, endpoint=True)\n",
    "\n",
    "t0min = min([p.toas.min() for p in mypsrs])\n",
    "t0max = max([p.toas.max() for p in mypsrs])\n",
    "\n",
    "ramp_pta = ee_models.model_ramp(mypsrs, LookupLikelihood, lookupdir=lookupdir,\n",
    "                          upper_limit=False, bayesephem=False,\n",
    "                          Tmin_bwm=t0min, Tmax_bwm=t0max, logmin=min(log10_amps), logmax=max(log10_amps))\n",
    "\n",
    "burst_pta = ee_models.model_bwm(mypsrs, LookupLikelihood, lookupdir=lookupdir,\n",
    "                                upper_limit=False, bayesephem=False,\n",
    "                                Tmin_bwm=t0min, Tmax_bwm=t0max,logmin=min(log10_amps), logmax=max(log10_amps))"
   ]
  },
  {
   "cell_type": "code",
   "execution_count": 77,
   "metadata": {
    "scrolled": true
   },
   "outputs": [
    {
     "data": {
      "text/plain": [
       "array([ 0.23527603, -0.9573531 ,  0.16769088])"
      ]
     },
     "execution_count": 77,
     "metadata": {},
     "output_type": "execute_result"
    }
   ],
   "source": [
    "mypsrs[0].pos"
   ]
  },
  {
   "cell_type": "code",
   "execution_count": null,
   "metadata": {},
   "outputs": [],
   "source": []
  },
  {
   "cell_type": "code",
   "execution_count": 78,
   "metadata": {},
   "outputs": [
    {
     "name": "stderr",
     "output_type": "stream",
     "text": [
      "INFO: enterprise.signals.signal_base: Setting B1855+09_430_ASP_efac to 1.15373\n",
      "INFO: enterprise.signals.signal_base: Setting B1855+09_430_PUPPI_efac to 1.12092\n",
      "INFO: enterprise.signals.signal_base: Setting B1855+09_L-wide_ASP_efac to 1.08632\n",
      "INFO: enterprise.signals.signal_base: Setting B1855+09_L-wide_PUPPI_efac to 1.37768\n",
      "INFO: enterprise.signals.signal_base: Setting B1855+09_430_ASP_log10_equad to -8.87356\n",
      "INFO: enterprise.signals.signal_base: Setting B1855+09_430_PUPPI_log10_equad to -6.17217\n",
      "INFO: enterprise.signals.signal_base: Setting B1855+09_L-wide_ASP_log10_equad to -6.50338\n",
      "INFO: enterprise.signals.signal_base: Setting B1855+09_L-wide_PUPPI_log10_equad to -6.53848\n",
      "INFO: enterprise.signals.signal_base: Setting B1855+09_430_ASP_log10_ecorr to -7.31698\n",
      "INFO: enterprise.signals.signal_base: Setting B1855+09_430_PUPPI_log10_ecorr to -6.31615\n",
      "INFO: enterprise.signals.signal_base: Setting B1855+09_L-wide_ASP_log10_ecorr to -6.09398\n",
      "INFO: enterprise.signals.signal_base: Setting B1855+09_L-wide_PUPPI_log10_ecorr to -6.43511\n",
      "INFO: enterprise.signals.signal_base: Setting B1953+29_430_ASP_efac to 1.27106\n",
      "INFO: enterprise.signals.signal_base: Setting B1953+29_430_PUPPI_efac to 1.28185\n",
      "INFO: enterprise.signals.signal_base: Setting B1953+29_L-wide_ASP_efac to 1.33649\n",
      "INFO: enterprise.signals.signal_base: Setting B1953+29_L-wide_PUPPI_efac to 1.11452\n",
      "INFO: enterprise.signals.signal_base: Setting B1953+29_430_ASP_log10_equad to -5.71787\n",
      "INFO: enterprise.signals.signal_base: Setting B1953+29_430_PUPPI_log10_equad to -5.89011\n",
      "INFO: enterprise.signals.signal_base: Setting B1953+29_L-wide_ASP_log10_equad to -9.03672\n",
      "INFO: enterprise.signals.signal_base: Setting B1953+29_L-wide_PUPPI_log10_equad to -8.55832\n",
      "INFO: enterprise.signals.signal_base: Setting B1953+29_430_ASP_log10_ecorr to -6.40406\n",
      "INFO: enterprise.signals.signal_base: Setting B1953+29_430_PUPPI_log10_ecorr to -4.9832\n",
      "INFO: enterprise.signals.signal_base: Setting B1953+29_L-wide_ASP_log10_ecorr to -7.81752\n",
      "INFO: enterprise.signals.signal_base: Setting B1953+29_L-wide_PUPPI_log10_ecorr to -8.43518\n",
      "INFO: enterprise.signals.signal_base: Setting B1855+09_430_ASP_efac to 1.15373\n",
      "INFO: enterprise.signals.signal_base: Setting B1855+09_430_PUPPI_efac to 1.12092\n",
      "INFO: enterprise.signals.signal_base: Setting B1855+09_L-wide_ASP_efac to 1.08632\n",
      "INFO: enterprise.signals.signal_base: Setting B1855+09_L-wide_PUPPI_efac to 1.37768\n",
      "INFO: enterprise.signals.signal_base: Setting B1855+09_430_ASP_log10_equad to -8.87356\n",
      "INFO: enterprise.signals.signal_base: Setting B1855+09_430_PUPPI_log10_equad to -6.17217\n",
      "INFO: enterprise.signals.signal_base: Setting B1855+09_L-wide_ASP_log10_equad to -6.50338\n",
      "INFO: enterprise.signals.signal_base: Setting B1855+09_L-wide_PUPPI_log10_equad to -6.53848\n",
      "INFO: enterprise.signals.signal_base: Setting B1855+09_430_ASP_log10_ecorr to -7.31698\n",
      "INFO: enterprise.signals.signal_base: Setting B1855+09_430_PUPPI_log10_ecorr to -6.31615\n",
      "INFO: enterprise.signals.signal_base: Setting B1855+09_L-wide_ASP_log10_ecorr to -6.09398\n",
      "INFO: enterprise.signals.signal_base: Setting B1855+09_L-wide_PUPPI_log10_ecorr to -6.43511\n",
      "INFO: enterprise.signals.signal_base: Setting B1953+29_430_ASP_efac to 1.27106\n",
      "INFO: enterprise.signals.signal_base: Setting B1953+29_430_PUPPI_efac to 1.28185\n",
      "INFO: enterprise.signals.signal_base: Setting B1953+29_L-wide_ASP_efac to 1.33649\n",
      "INFO: enterprise.signals.signal_base: Setting B1953+29_L-wide_PUPPI_efac to 1.11452\n",
      "INFO: enterprise.signals.signal_base: Setting B1953+29_430_ASP_log10_equad to -5.71787\n",
      "INFO: enterprise.signals.signal_base: Setting B1953+29_430_PUPPI_log10_equad to -5.89011\n",
      "INFO: enterprise.signals.signal_base: Setting B1953+29_L-wide_ASP_log10_equad to -9.03672\n",
      "INFO: enterprise.signals.signal_base: Setting B1953+29_L-wide_PUPPI_log10_equad to -8.55832\n",
      "INFO: enterprise.signals.signal_base: Setting B1953+29_430_ASP_log10_ecorr to -6.40406\n",
      "INFO: enterprise.signals.signal_base: Setting B1953+29_430_PUPPI_log10_ecorr to -4.9832\n",
      "INFO: enterprise.signals.signal_base: Setting B1953+29_L-wide_ASP_log10_ecorr to -7.81752\n",
      "INFO: enterprise.signals.signal_base: Setting B1953+29_L-wide_PUPPI_log10_ecorr to -8.43518\n"
     ]
    }
   ],
   "source": [
    "ramp_pta.set_default_params(noise_params)\n",
    "burst_pta.set_default_params(noise_params)"
   ]
  },
  {
   "cell_type": "code",
   "execution_count": 79,
   "metadata": {},
   "outputs": [
    {
     "name": "stdout",
     "output_type": "stream",
     "text": [
      "Looking for parfile in: /home/nima/nanograv/11yr_burst_factorizedlikelihood/single_psr_lookup_v4/B1855+09/pars.txt\n",
      "Looking for parfile in: /home/nima/nanograv/11yr_burst_factorizedlikelihood/single_psr_lookup_v4/B1953+29/pars.txt\n"
     ]
    },
    {
     "data": {
      "text/plain": [
       "<function __main__.bwm_to_ramp_condenser(xs, psr, pta_param_names)>"
      ]
     },
     "execution_count": 79,
     "metadata": {},
     "output_type": "execute_result"
    }
   ],
   "source": [
    "burst_pta._lnlikelihood.condenser = bwm_to_ramp_condenser\n",
    "burst_pta._lnlikelihood.condenser"
   ]
  },
  {
   "cell_type": "code",
   "execution_count": 80,
   "metadata": {},
   "outputs": [],
   "source": [
    "sampling_outdir = '/home/nima/nanograv/11yr_burst_factorizedlikelihood/multi_psr_runs/factorized_v1/'\n",
    "np.savetxt(sampling_outdir+'pars.txt',list(map(str, burst_pta.param_names)), fmt='%s')\n",
    "np.savetxt(sampling_outdir+'priors.txt',list(map(lambda x: str(x.__repr__()), burst_pta.params)), fmt='%s')"
   ]
  },
  {
   "cell_type": "code",
   "execution_count": 82,
   "metadata": {},
   "outputs": [
    {
     "name": "stderr",
     "output_type": "stream",
     "text": [
      "/home/nima/anaconda3/envs/enterprise/lib/python3.7/site-packages/ipykernel_launcher.py:1: FutureWarning: arrays to stack must be passed as a \"sequence\" type such as list or tuple. Support for non-sequence iterables such as generators is deprecated as of NumPy 1.16 and will raise an error in the future.\n",
      "  \"\"\"Entry point for launching an IPython kernel.\n"
     ]
    },
    {
     "name": "stdout",
     "output_type": "stream",
     "text": [
      "Finished 3.33 percent in 15.272514 s Acceptance rate = 0.526556Adding DE jump with weight 0\n",
      "Finished 99.67 percent in 455.030488 s Acceptance rate = 0.482027\n",
      "Run Complete\n"
     ]
    }
   ],
   "source": [
    "x0 = np.hstack(p.sample() for p in burst_pta.params)\n",
    "ndim = len(x0)\n",
    "\n",
    "# initial jump covariance matrix\n",
    "cov = np.diag(np.ones(ndim) * 0.1**2)\n",
    "sampler = ptmcmc(ndim, burst_pta.get_lnlikelihood, burst_pta.get_lnprior, cov,  outDir=sampling_outdir, resume=False)\n",
    "\n",
    "jp = ee_sampler.JumpProposal(burst_pta)\n",
    "sampler.addProposalToCycle(jp.draw_from_prior, 30)\n",
    "\n",
    "sampler.sample(x0, int(3e5), SCAMweight=30, AMweight=50, DEweight=0)"
   ]
  },
  {
   "cell_type": "code",
   "execution_count": 83,
   "metadata": {},
   "outputs": [
    {
     "name": "stdout",
     "output_type": "stream",
     "text": [
      "Appending PTMCMCSampler sampling parameters to end of parameter list.\n",
      "If unwanted please provide a parameter list.\n",
      "No burn specified. Burn set to 25% of chain length, 7475\n",
      "You may change the burn length with core.set_burn()\n",
      "Red noise frequencies must be set before plotting most red noise figures.\n",
      "Please use core.set_rn_freqs() to set, if needed.\n"
     ]
    },
    {
     "data": {
      "image/png": "[encoded data removed]",
      "text/plain": [
       "<Figure size 1080x864 with 9 Axes>"
      ]
     },
     "metadata": {
      "needs_background": "light"
     },
     "output_type": "display_data"
    }
   ],
   "source": [
    "from la_forge.core import Core\n",
    "from la_forge.diagnostics import plot_chains\n",
    "\n",
    "chaindir = '/home/nima/nanograv/11yr_burst_factorizedlikelihood/multi_psr_runs/factorized_v1/'\n",
    "core = Core(label='condensed factorized', chaindir=chaindir)\n",
    "plot_chains(core, hist=True, density=True, suptitle='Full PTA run', exclude=[\"lnlike\", \"chain_accept\", \"pt_chain_accept\", \"lnprior\"])"
   ]
  },
  {
   "cell_type": "code",
   "execution_count": 84,
   "metadata": {},
   "outputs": [
    {
     "data": {
      "text/plain": [
       "12345657000.0"
      ]
     },
     "execution_count": 84,
     "metadata": {},
     "output_type": "execute_result"
    }
   ],
   "source": [
    "float(\"1.2345657e10\")"
   ]
  },
  {
   "cell_type": "code",
   "execution_count": null,
   "metadata": {},
   "outputs": [],
   "source": []
  }
 ],
 "metadata": {
  "kernelspec": {
   "display_name": "Python 3",
   "language": "python",
   "name": "python3"
  },
  "language_info": {
   "codemirror_mode": {
    "name": "ipython",
    "version": 3
   },
   "file_extension": ".py",
   "mimetype": "text/x-python",
   "name": "python",
   "nbconvert_exporter": "python",
   "pygments_lexer": "ipython3",
   "version": "3.7.7"
  }
 },
 "nbformat": 4,
 "nbformat_minor": 4
}
