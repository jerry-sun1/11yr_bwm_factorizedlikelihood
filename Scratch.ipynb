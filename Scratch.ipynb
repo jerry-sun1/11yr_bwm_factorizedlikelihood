{
 "cells": [
  {
   "cell_type": "code",
   "execution_count": 36,
   "metadata": {},
   "outputs": [
    {
     "name": "stdout",
     "output_type": "stream",
     "text": [
      "The autoreload extension is already loaded. To reload it, use:\n",
      "  %reload_ext autoreload\n",
      "No noise dictionary provided!...\n",
      "No noise dictionary provided!...\n"
     ]
    }
   ],
   "source": [
    "from __future__ import division\n",
    "\n",
    "%load_ext autoreload\n",
    "%autoreload 2\n",
    "\n",
    "\n",
    "import sys\n",
    "sys.path.insert(0, '/home/nima/nanograv/custom_libs/enterprise/')\n",
    "sys.path.insert(0, '/home/nima/nanograv/custom_libs/enterprise_extensions/')\n",
    "sys.path.insert(0, '/home/nima/nanograv/custom_libs/PTMCMCSampler/')\n",
    "\n",
    "import numpy as np\n",
    "import os, glob, json\n",
    "import matplotlib.pyplot as plt\n",
    "import pickle\n",
    "import scipy.linalg as sl\n",
    "import healpy as hp\n",
    "import multiprocessing as mp\n",
    "\n",
    "from enterprise.signals import parameter\n",
    "from enterprise.signals import signal_base\n",
    "from enterprise.signals import deterministic_signals\n",
    "from enterprise.signals import utils\n",
    "from enterprise import constants as const\n",
    "\n",
    "from enterprise_extensions import models as ee_models\n",
    "from enterprise_extensions import model_utils as ee_model_utils\n",
    "from enterprise_extensions import sampler as ee_sampler\n",
    "\n",
    "pklfile = '/home/nima/nanograv/11yr/NANOGrav_11yr_DE436.pickle'\n",
    "\n",
    "with open(pklfile, 'rb') as f:\n",
    "    psrs=pickle.load(f)\n",
    "    \n",
    "for each in psrs:\n",
    "    if each.name == \"J1909-3744\":\n",
    "        psr = each\n",
    "\n",
    "noisefile = '/home/nima/nanograv/11yr/noisefiles/noisedict.json'\n",
    "\n",
    "U,_ = utils.create_quantization_matrix(psr.toas)\n",
    "eps = 9  # clip first and last N observing epochs\n",
    "t0min = np.floor(max(U[:,eps] * psr.toas/const.day))\n",
    "t0max = np.ceil(max(U[:,-eps] * psr.toas/const.day))\n",
    "\n",
    "ramp_pta = ee_models.model_ramp([psr], upper_limit=False, bayesephem=False,\n",
    "                          Tmin_bwm=t0min, Tmax_bwm=t0max)\n",
    "\n",
    "burst_pta = ee_models.model_bwm([psr])"
   ]
  },
  {
   "cell_type": "code",
   "execution_count": 37,
   "metadata": {},
   "outputs": [
    {
     "name": "stderr",
     "output_type": "stream",
     "text": [
      "INFO: enterprise.signals.signal_base: Setting J1909-3744_Rcvr1_2_GASP_efac to 0.970672\n",
      "INFO: enterprise.signals.signal_base: Setting J1909-3744_Rcvr1_2_GUPPI_efac to 1.05058\n",
      "INFO: enterprise.signals.signal_base: Setting J1909-3744_Rcvr_800_GASP_efac to 0.983366\n",
      "INFO: enterprise.signals.signal_base: Setting J1909-3744_Rcvr_800_GUPPI_efac to 1.0416\n",
      "INFO: enterprise.signals.signal_base: Setting J1909-3744_Rcvr1_2_GASP_log10_equad to -7.4129\n",
      "INFO: enterprise.signals.signal_base: Setting J1909-3744_Rcvr1_2_GUPPI_log10_equad to -8.08194\n",
      "INFO: enterprise.signals.signal_base: Setting J1909-3744_Rcvr_800_GASP_log10_equad to -6.62141\n",
      "INFO: enterprise.signals.signal_base: Setting J1909-3744_Rcvr_800_GUPPI_log10_equad to -7.3337\n",
      "INFO: enterprise.signals.signal_base: Setting J1909-3744_Rcvr1_2_GASP_log10_ecorr to -8.39677\n",
      "INFO: enterprise.signals.signal_base: Setting J1909-3744_Rcvr1_2_GUPPI_log10_ecorr to -7.11967\n",
      "INFO: enterprise.signals.signal_base: Setting J1909-3744_Rcvr_800_GASP_log10_ecorr to -8.48249\n",
      "INFO: enterprise.signals.signal_base: Setting J1909-3744_Rcvr_800_GUPPI_log10_ecorr to -7.21914\n",
      "INFO: enterprise.signals.signal_base: Setting J1909-3744_Rcvr1_2_GASP_efac to 0.970672\n",
      "INFO: enterprise.signals.signal_base: Setting J1909-3744_Rcvr1_2_GUPPI_efac to 1.05058\n",
      "INFO: enterprise.signals.signal_base: Setting J1909-3744_Rcvr_800_GASP_efac to 0.983366\n",
      "INFO: enterprise.signals.signal_base: Setting J1909-3744_Rcvr_800_GUPPI_efac to 1.0416\n",
      "INFO: enterprise.signals.signal_base: Setting J1909-3744_Rcvr1_2_GASP_log10_equad to -7.4129\n",
      "INFO: enterprise.signals.signal_base: Setting J1909-3744_Rcvr1_2_GUPPI_log10_equad to -8.08194\n",
      "INFO: enterprise.signals.signal_base: Setting J1909-3744_Rcvr_800_GASP_log10_equad to -6.62141\n",
      "INFO: enterprise.signals.signal_base: Setting J1909-3744_Rcvr_800_GUPPI_log10_equad to -7.3337\n",
      "INFO: enterprise.signals.signal_base: Setting J1909-3744_Rcvr1_2_GASP_log10_ecorr to -8.39677\n",
      "INFO: enterprise.signals.signal_base: Setting J1909-3744_Rcvr1_2_GUPPI_log10_ecorr to -7.11967\n",
      "INFO: enterprise.signals.signal_base: Setting J1909-3744_Rcvr_800_GASP_log10_ecorr to -8.48249\n",
      "INFO: enterprise.signals.signal_base: Setting J1909-3744_Rcvr_800_GUPPI_log10_ecorr to -7.21914\n"
     ]
    }
   ],
   "source": [
    "noisefile = '/home/nima/nanograv/11yr/noisefiles/noisedict.json'\n",
    "with open(noisefile, 'rb') as nfile:\n",
    "    setpars = json.load(nfile)\n",
    "    \n",
    "ramp_pta.set_default_params(setpars)\n",
    "burst_pta.set_default_params(setpars)"
   ]
  },
  {
   "cell_type": "code",
   "execution_count": 38,
   "metadata": {},
   "outputs": [
    {
     "name": "stdout",
     "output_type": "stream",
     "text": [
      "[J1909-3744_red_noise_gamma:Uniform(pmin=0, pmax=7), J1909-3744_red_noise_log10_A:Uniform(pmin=-20, pmax=-11), ramp_log10_A:Uniform(pmin=-18, pmax=-11), ramp_t0:Uniform(pmin=53839.0, pmax=57347.0)]\n",
      "[J1909-3744_red_noise_gamma:Uniform(pmin=0, pmax=7), J1909-3744_red_noise_log10_A:Uniform(pmin=-20, pmax=-11), bwm_costheta:Uniform(pmin=-1, pmax=1), bwm_log10_A:Uniform(pmin=-18, pmax=-11), bwm_phi:Uniform(pmin=0, pmax=6.283185307179586), bwm_pol:Uniform(pmin=0, pmax=3.141592653589793), bwm_t0:Uniform(pmin=53292.01663801381, pmax=57386.79333222201)]\n"
     ]
    }
   ],
   "source": [
    "print(ramp_pta.params)\n",
    "print(burst_pta.params)"
   ]
  },
  {
   "cell_type": "code",
   "execution_count": 21,
   "metadata": {},
   "outputs": [
    {
     "name": "stdout",
     "output_type": "stream",
     "text": [
      "[ 5.89234696e-01 -1.57181966e+01 -5.41853120e-01 -1.18618548e+01\n",
      "  2.17931932e+00  9.03009039e-01  5.33686370e+04]\n"
     ]
    },
    {
     "name": "stderr",
     "output_type": "stream",
     "text": [
      "/home/nima/anaconda3/envs/enterprise/lib/python3.7/site-packages/ipykernel_launcher.py:1: FutureWarning: arrays to stack must be passed as a \"sequence\" type such as list or tuple. Support for non-sequence iterables such as generators is deprecated as of NumPy 1.16 and will raise an error in the future.\n",
      "  \"\"\"Entry point for launching an IPython kernel.\n"
     ]
    }
   ],
   "source": [
    "x0=np.hstack(p.sample() for p in burst_pta.params)\n",
    "print(x0)"
   ]
  },
  {
   "cell_type": "code",
   "execution_count": 41,
   "metadata": {},
   "outputs": [
    {
     "name": "stdout",
     "output_type": "stream",
     "text": [
      "J1909-3744_red_noise_gamma:Uniform(pmin=0, pmax=7)\n",
      "\n",
      "J1909-3744_red_noise_log10_A:Uniform(pmin=-20, pmax=-11)\n",
      "\n",
      "ramp_log10_A:Uniform(pmin=-18, pmax=-11)\n",
      "\n",
      "ramp_t0:Uniform(pmin=53839.0, pmax=57347.0)\n",
      "\n"
     ]
    }
   ],
   "source": [
    "for p in ramp_pta.params:\n",
    "    print(str(p) + '\\n')"
   ]
  },
  {
   "cell_type": "code",
   "execution_count": null,
   "metadata": {},
   "outputs": [],
   "source": [
    "#let's try to calculate the associated amplitude and see if the ramp_pta\n",
    "#gives the same answer\n",
    "\n",
    "pos = psr.pos\n",
    "\n",
    "costheta = x0[2]\n",
    "log10_A = x0[3]\n",
    "phi = x0[4]\n",
    "pol=x0[5]\n",
    "t0=x0[6]\n",
    "\n",
    "h = 10 ** log10_A\n",
    "theta=np.arccos(costheta)\n",
    "t0 *= const.day\n",
    "\n",
    "apc = utils.create_gw_antenna_pattern(pos, theta, phi)\n",
    "fp, fc = apc[0], apc[1]\n",
    "\n",
    "pol = np.cos(2 * pol) * fp + np.sin(2 * pol) * fc\n",
    "\n",
    "print(pol*h)"
   ]
  },
  {
   "cell_type": "code",
   "execution_count": null,
   "metadata": {},
   "outputs": [],
   "source": [
    "for p in ramp_pta.params:\n",
    "    print(str(p) + '\\n')"
   ]
  },
  {
   "cell_type": "code",
   "execution_count": null,
   "metadata": {},
   "outputs": [],
   "source": [
    "gamma = x0[0]\n",
    "intrinsic_log10_A = x0[1]\n",
    "ramp_amp = pol*h\n",
    "ramp_t0 = x0[6]\n",
    "\n",
    "print(ramp_pta.get_lnlikelihood([gamma, intrinsic_log10_A, np.log10(ramp_amp), ramp_t0]))"
   ]
  },
  {
   "cell_type": "markdown",
   "metadata": {},
   "source": [
    "# # Below are cells for testing binary search"
   ]
  },
  {
   "cell_type": "code",
   "execution_count": 42,
   "metadata": {},
   "outputs": [],
   "source": [
    "from __future__ import division\n",
    "\n",
    "import numpy as np\n",
    "import os, sys\n",
    "\n",
    "from enterprise.signals import utils\n",
    "\n",
    "def find_closest(target, data):\n",
    "    closest = 0\n",
    "    for idx in range(len(data)):\n",
    "        if abs(target - data[idx]) < abs(target - data[closest]):\n",
    "            closest = idx\n",
    "\n",
    "    return idx\n",
    "\n",
    "def find_two_closest(target, data):\n",
    "    closest = 0\n",
    "    next_closest = 1\n",
    "    \n",
    "    for idx in range(len(data)):\n",
    "        if abs(target - data[idx]) < abs(target - data[closest]):\n",
    "            closest = idx\n",
    "        elif abs(target - data[idx]) < abs(target - data[next_closest]):\n",
    "            next_closest = idx\n",
    "        \n",
    "    return closest, next_closest"
   ]
  },
  {
   "cell_type": "code",
   "execution_count": 43,
   "metadata": {},
   "outputs": [
    {
     "name": "stdout",
     "output_type": "stream",
     "text": [
      "[ 6.09247993e+00 -1.19139668e+01 -1.29288996e+01  5.68718524e+04]\n"
     ]
    },
    {
     "name": "stderr",
     "output_type": "stream",
     "text": [
      "/home/nima/anaconda3/envs/enterprise/lib/python3.7/site-packages/ipykernel_launcher.py:24: FutureWarning: arrays to stack must be passed as a \"sequence\" type such as list or tuple. Support for non-sequence iterables such as generators is deprecated as of NumPy 1.16 and will raise an error in the future.\n"
     ]
    }
   ],
   "source": [
    "params_dict = {}\n",
    "\n",
    "log10_burst_amplitudes = np.linspace(-20, -12, 80, endpoint=True) #grid points for the burst strain\n",
    "log10_rn_amps = np.linspace(-20, -12, 80, endpoint=True) #grid points for the pulsar red noise\n",
    "\n",
    "Ngammas = 70\n",
    "gmin = 0\n",
    "gmax = 7\n",
    "gammas = np.linspace(gmin, gmax, Ngammas, endpoint=True) #grid points for gamma\n",
    "\n",
    "\n",
    "U,_ = utils.create_quantization_matrix(psr.toas)\n",
    "eps = 9  # clip first and last N observing epochs\n",
    "t0min = np.floor(max(U[:,eps] * psr.toas/const.day))\n",
    "t0max = np.ceil(max(U[:,-eps] * psr.toas/const.day))\n",
    "\n",
    "Ts = np.linspace(t0min, t0max, num=100, endpoint=True)\n",
    "\n",
    "params_dict[\"J1909-3744_red_noise_gamma\"] = gammas\n",
    "params_dict[\"J1909-3744_red_noise_log10_A\"] = log10_rn_amps\n",
    "params_dict[\"ramp_log10_A\"] = log10_burst_amplitudes\n",
    "params_dict[\"ramp_t0\"] = Ts\n",
    "\n",
    "x0=np.hstack(p.sample() for p in ramp_pta.params)\n",
    "\n",
    "gamma = x0[0]\n",
    "log10_rn = x0[1]\n",
    "log10_ramp = x0[2]\n",
    "ramp_t0 = x0[3]\n",
    "\n",
    "print(x0)"
   ]
  },
  {
   "cell_type": "code",
   "execution_count": 30,
   "metadata": {},
   "outputs": [],
   "source": [
    "for each in psrs:\n",
    "    if each.name == \"J1909-3744\":\n",
    "        psr = each.name\n",
    "        \n",
    "params_dict = {}\n",
    "\n",
    "log10_burst_amplitudes = np.linspace(-20, -12, 80, endpoint=True) #grid points for the burst strain\n",
    "log10_rn_amps = np.linspace(-20, -12, 80, endpoint=True) #grid points for the pulsar red noise\n",
    "\n",
    "Ngammas = 70\n",
    "gmin = 0\n",
    "gmax = 7\n",
    "gammas = np.linspace(gmin, gmax, Ngammas, endpoint=True) #grid points for gamma\n",
    "\n",
    "\n",
    "U,_ = utils.create_quantization_matrix(psr.toas)\n",
    "eps = 9  # clip first and last N observing epochs\n",
    "t0min = np.floor(max(U[:,eps] * psr.toas/const.day))\n",
    "t0max = np.ceil(max(U[:,-eps] * psr.toas/const.day))\n",
    "\n",
    "Ts = np.linspace(t0min, t0max, num=100, endpoint=True)\n",
    "\n",
    "params_dict[\"J1909-3744_red_noise_gamma\"] = gammas\n",
    "params_dict[\"J1909-3744_red_noise_log10_A\"] = log10_rn_amps\n",
    "params_dict[\"ramp_log10_A\"] = log10_burst_amplitudes\n",
    "params_dict[\"ramp_t0\"] = Ts\n",
    "\n",
    "## For this search, if we know which indices are closest, we can just\n",
    "## go directly to the right line\n",
    "\n",
    "# Find the indices of the closest and next closest numbers to the ne in sample\n"
   ]
  },
  {
   "cell_type": "code",
   "execution_count": 32,
   "metadata": {},
   "outputs": [
    {
     "name": "stdout",
     "output_type": "stream",
     "text": [
      "[ 8.66722206e-01 -1.71658495e+01 -1.47019379e+01  5.58109006e+04]\n"
     ]
    },
    {
     "name": "stderr",
     "output_type": "stream",
     "text": [
      "/home/nima/anaconda3/envs/enterprise/lib/python3.7/site-packages/ipykernel_launcher.py:1: FutureWarning: arrays to stack must be passed as a \"sequence\" type such as list or tuple. Support for non-sequence iterables such as generators is deprecated as of NumPy 1.16 and will raise an error in the future.\n",
      "  \"\"\"Entry point for launching an IPython kernel.\n"
     ]
    }
   ],
   "source": [
    "x0=np.hstack(p.sample() for p in ramp_pta.params)\n",
    "\n",
    "gamma = x0[0]\n",
    "log10_rn = x0[1]\n",
    "log10_ramp = x0[2]\n",
    "ramp_t0 = x0[3]\n",
    "\n",
    "print(x0)"
   ]
  },
  {
   "cell_type": "code",
   "execution_count": 46,
   "metadata": {},
   "outputs": [
    {
     "name": "stdout",
     "output_type": "stream",
     "text": [
      "60 61\n",
      "6.09247993266427 6.086956521739131 6.188405797101449\n"
     ]
    }
   ],
   "source": [
    "gamma_closest, gamma_second_closest = find_two_closest(gamma, gammas)\n",
    "log10rn_closest, log10rn_second_closest = find_two_closest(log10_rn, log10_rn_amps)\n",
    "log10ramp_closest, log10ramp_second_closest = find_two_closest(log10_ramp, log10_burst_amplitudes)\n",
    "t0_closest, t0_second_closest = find_two_closest(ramp_t0, Ts)\n",
    "\n",
    "print(gamma_closest, gamma_second_closest)\n",
    "print(gamma, gammas[60], gammas[61])"
   ]
  },
  {
   "cell_type": "code",
   "execution_count": 34,
   "metadata": {},
   "outputs": [
    {
     "data": {
      "text/plain": [
       "'B1855+09'"
      ]
     },
     "execution_count": 34,
     "metadata": {},
     "output_type": "execute_result"
    }
   ],
   "source": [
    "closest_idx = "
   ]
  },
  {
   "cell_type": "code",
   "execution_count": null,
   "metadata": {},
   "outputs": [],
   "source": []
  }
 ],
 "metadata": {
  "kernelspec": {
   "display_name": "Python 3",
   "language": "python",
   "name": "python3"
  },
  "language_info": {
   "codemirror_mode": {
    "name": "ipython",
    "version": 3
   },
   "file_extension": ".py",
   "mimetype": "text/x-python",
   "name": "python",
   "nbconvert_exporter": "python",
   "pygments_lexer": "ipython3",
   "version": "3.7.7"
  }
 },
 "nbformat": 4,
 "nbformat_minor": 4
}
